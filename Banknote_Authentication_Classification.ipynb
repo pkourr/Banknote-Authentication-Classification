{
 "cells": [
  {
   "cell_type": "markdown",
   "source": [
    "# Banknote Authentication Classification\n",
    "\n",
    "### Kouretas Panagtiotis-Theodoros E19072\n",
    "\n",
    "In this notebook, we will be working with a dataset that contains information extracted from images of genuine and forged banknote-like specimens. The data were digitized using an industrial camera typically used for print inspection. The images have a resolution of about 660 dpi.\n",
    "\n",
    "The dataset contains the following features:\n",
    "\n",
    "1. Variance of Wavelet Transformed image (continuous)\n",
    "2. Skewness of Wavelet Transformed image (continuous)\n",
    "3. Curtosis of Wavelet Transformed image (continuous)\n",
    "4. Entropy of image (continuous)\n",
    "5. Class (integer)\n",
    "\n",
    "The 'Class' feature is our target variable. It indicates whether the banknote is genuine or forged.\n",
    "\n",
    "We will apply various classification algorithms to this dataset and compare their performance. The goal is to determine which algorithm is most effective for this particular task.\n",
    "\n",
    "At first we start by importing the necessary libraries and loading the dataset (the dataset is converted from .txt to .csv form)."
   ],
   "metadata": {
    "jupyter": {
     "outputs_hidden": false,
     "source_hidden": false
    },
    "noteable": {
     "cell_type": "markdown"
    }
   },
   "id": "32aa491e-6668-48f1-9e28-99dba71b33f1"
  },
  {
   "cell_type": "code",
   "source": [
    "import pandas as pd\n",
    "import numpy as np\n",
    "from sklearn.model_selection import train_test_split\n",
    "from sklearn.preprocessing import StandardScaler\n",
    "from sklearn.metrics import accuracy_score, confusion_matrix, classification_report\n",
    "import matplotlib.pyplot as plt\n",
    "import seaborn as sns\n",
    "\n",
    "# URL of the dataset\n",
    "url = 'http://archive.ics.uci.edu/ml/machine-learning-databases/00267/data_banknote_authentication.txt'\n",
    "\n",
    "# Column names for the dataset\n",
    "column_names = ['variance', 'skewness', 'curtosis', 'entropy', 'class']\n",
    "\n",
    "# Load the dataset\n",
    "df = pd.read_csv(url, names=column_names)"
   ],
   "outputs": [],
   "execution_count": null,
   "metadata": {
    "jupyter": {
     "outputs_hidden": false,
     "source_hidden": false
    },
    "noteable": {
     "cell_type": "code"
    },
    "ExecuteTime": {
     "end_time": "2023-05-24T14:50:29.468678+00:00",
     "start_time": "2023-05-24T14:50:28.950845+00:00"
    }
   },
   "id": "6b5a78bc-fd8b-4c2d-bb6a-fc6cbc6f935a"
  },
  {
   "cell_type": "markdown",
   "source": [
    "## Data Exploration\n",
    "\n",
    "Now that we have loaded the data, let's take a look at the first few rows to understand its structure."
   ],
   "metadata": {
    "jupyter": {
     "outputs_hidden": false,
     "source_hidden": false
    },
    "noteable": {
     "cell_type": "markdown"
    }
   },
   "id": "cdfb6fa9-3bc1-4908-815c-048b18436282"
  },
  {
   "cell_type": "code",
   "source": [
    "df.head()"
   ],
   "outputs": [
    {
     "output_type": "display_data",
     "data": {
      "application/vnd.dataresource+json": {
       "schema": {
        "fields": [
         {
          "name": "index",
          "type": "integer"
         },
         {
          "name": "variance",
          "type": "number"
         },
         {
          "name": "skewness",
          "type": "number"
         },
         {
          "name": "curtosis",
          "type": "number"
         },
         {
          "name": "entropy",
          "type": "number"
         },
         {
          "name": "class",
          "type": "integer"
         }
        ],
        "primaryKey": [
         "index"
        ],
        "pandas_version": "1.4.0"
       },
       "data": [
        {
         "index": 0,
         "variance": 3.6216,
         "skewness": 8.6661,
         "curtosis": -2.8073,
         "entropy": -0.44699,
         "class": 0
        },
        {
         "index": 1,
         "variance": 4.5459,
         "skewness": 8.1674,
         "curtosis": -2.4586,
         "entropy": -1.4621,
         "class": 0
        },
        {
         "index": 2,
         "variance": 3.866,
         "skewness": -2.6383,
         "curtosis": 1.9242,
         "entropy": 0.10645,
         "class": 0
        },
        {
         "index": 3,
         "variance": 3.4566,
         "skewness": 9.5228,
         "curtosis": -4.0112,
         "entropy": -3.5944,
         "class": 0
        },
        {
         "index": 4,
         "variance": 0.32924,
         "skewness": -4.4552,
         "curtosis": 4.5718,
         "entropy": -0.9888,
         "class": 0
        }
       ],
       "datalink": {
        "display_id": "3a02e12e-f70b-460c-abe6-c21f2672dbcc"
       }
      }
     },
     "metadata": {
      "application/vnd.dataresource+json": {
       "datalink": {
        "dataframe_info": {
         "default_index_used": true,
         "orig_size_bytes": 328,
         "orig_num_rows": 5,
         "orig_num_cols": 5,
         "truncated_string_columns": [],
         "truncated_size_bytes": 328,
         "truncated_num_rows": 5,
         "truncated_num_cols": 5
        },
        "dx_settings": {
         "NUM_PAST_SAMPLES_TRACKED": 3,
         "ENABLE_DATALINK": true,
         "DISPLAY_MODE": "simple",
         "GENERATE_DEX_METADATA": false,
         "STRINGIFY_INDEX_VALUES": false,
         "ALLOW_NOTEABLE_ATTRS": true,
         "DISPLAY_MAX_COLUMNS": 100,
         "HTML_TABLE_SCHEMA": false,
         "SAMPLING_FACTOR": 0.1,
         "LOG_LEVEL": 30,
         "ENABLE_ASSIGNMENT": true,
         "FLATTEN_INDEX_VALUES": false,
         "DEV_MODE": false,
         "COLUMN_SAMPLING_METHOD": "outer",
         "FLATTEN_COLUMN_VALUES": true,
         "DISPLAY_MAX_ROWS": 50000,
         "ROW_SAMPLING_METHOD": "random",
         "RANDOM_STATE": 12648430,
         "DB_LOCATION": ":memory:",
         "STRINGIFY_COLUMN_VALUES": true,
         "SAMPLING_METHOD": "random",
         "MAX_STRING_LENGTH": 250,
         "MAX_RENDER_SIZE_BYTES": 104857600,
         "RESET_INDEX_VALUES": false
        },
        "display_id": "3a02e12e-f70b-460c-abe6-c21f2672dbcc",
        "applied_filters": [],
        "sample_history": [],
        "sampling_time": "2023-05-24T14:50:29.517048",
        "variable_name": "unk_dataframe_ae87af25703d41e88d6d6b73fcda0aa1",
        "user_variable_name": null
       },
       "display_id": "3a02e12e-f70b-460c-abe6-c21f2672dbcc"
      }
     }
    }
   ],
   "execution_count": null,
   "metadata": {
    "jupyter": {
     "outputs_hidden": false,
     "source_hidden": false
    },
    "noteable": {
     "cell_type": "code"
    },
    "ExecuteTime": {
     "end_time": "2023-05-24T14:50:29.673304+00:00",
     "start_time": "2023-05-24T14:50:29.477478+00:00"
    },
    "datalink": {
     "d4682216-f289-4cce-ad7b-c472f249b20f": {
      "applied_filters": [],
      "dataframe_info": {
       "default_index_used": true,
       "orig_num_cols": 5,
       "orig_num_rows": 5,
       "orig_size_bytes": 328,
       "truncated_num_cols": 5,
       "truncated_num_rows": 5,
       "truncated_size_bytes": 328,
       "truncated_string_columns": []
      },
      "display_id": "d4682216-f289-4cce-ad7b-c472f249b20f",
      "dx_settings": {
       "ALLOW_NOTEABLE_ATTRS": true,
       "COLUMN_SAMPLING_METHOD": "outer",
       "DB_LOCATION": ":memory:",
       "DEV_MODE": false,
       "DISPLAY_MAX_COLUMNS": 100,
       "DISPLAY_MAX_ROWS": 50000,
       "DISPLAY_MODE": "simple",
       "ENABLE_ASSIGNMENT": true,
       "ENABLE_DATALINK": true,
       "FLATTEN_COLUMN_VALUES": true,
       "FLATTEN_INDEX_VALUES": false,
       "GENERATE_DEX_METADATA": false,
       "HTML_TABLE_SCHEMA": false,
       "LOG_LEVEL": 30,
       "MAX_RENDER_SIZE_BYTES": 104857600,
       "MAX_STRING_LENGTH": 250,
       "NUM_PAST_SAMPLES_TRACKED": 3,
       "RANDOM_STATE": 12648430,
       "RESET_INDEX_VALUES": false,
       "ROW_SAMPLING_METHOD": "random",
       "SAMPLING_FACTOR": 0.1,
       "SAMPLING_METHOD": "random",
       "STRINGIFY_COLUMN_VALUES": true,
       "STRINGIFY_INDEX_VALUES": false
      },
      "sample_history": [],
      "sampling_time": "2023-05-24T14:44:19.105496",
      "user_variable_name": null,
      "variable_name": "unk_dataframe_5cb462d8310d453fa7a5cc73cee5b351"
     },
     "3a02e12e-f70b-460c-abe6-c21f2672dbcc": {
      "applied_filters": [],
      "dataframe_info": {
       "default_index_used": true,
       "orig_num_cols": 5,
       "orig_num_rows": 5,
       "orig_size_bytes": 328,
       "truncated_num_cols": 5,
       "truncated_num_rows": 5,
       "truncated_size_bytes": 328,
       "truncated_string_columns": []
      },
      "display_id": "3a02e12e-f70b-460c-abe6-c21f2672dbcc",
      "dx_settings": {
       "ALLOW_NOTEABLE_ATTRS": true,
       "COLUMN_SAMPLING_METHOD": "outer",
       "DB_LOCATION": ":memory:",
       "DEV_MODE": false,
       "DISPLAY_MAX_COLUMNS": 100,
       "DISPLAY_MAX_ROWS": 50000,
       "DISPLAY_MODE": "simple",
       "ENABLE_ASSIGNMENT": true,
       "ENABLE_DATALINK": true,
       "FLATTEN_COLUMN_VALUES": true,
       "FLATTEN_INDEX_VALUES": false,
       "GENERATE_DEX_METADATA": false,
       "HTML_TABLE_SCHEMA": false,
       "LOG_LEVEL": 30,
       "MAX_RENDER_SIZE_BYTES": 104857600,
       "MAX_STRING_LENGTH": 250,
       "NUM_PAST_SAMPLES_TRACKED": 3,
       "RANDOM_STATE": 12648430,
       "RESET_INDEX_VALUES": false,
       "ROW_SAMPLING_METHOD": "random",
       "SAMPLING_FACTOR": 0.1,
       "SAMPLING_METHOD": "random",
       "STRINGIFY_COLUMN_VALUES": true,
       "STRINGIFY_INDEX_VALUES": false
      },
      "sample_history": [],
      "sampling_time": "2023-05-24T14:50:29.517048",
      "user_variable_name": null,
      "variable_name": "unk_dataframe_ae87af25703d41e88d6d6b73fcda0aa1"
     }
    }
   },
   "id": "bb0afaac-1168-43a5-8dc8-05548dfd2a07"
  },
  {
   "cell_type": "code",
   "source": [
    "df.isnull().sum()"
   ],
   "outputs": [
    {
     "output_type": "display_data",
     "data": {
      "application/vnd.dataresource+json": {
       "schema": {
        "fields": [
         {
          "name": "index",
          "type": "string"
         },
         {
          "name": "0",
          "type": "integer"
         }
        ],
        "primaryKey": [
         "index"
        ],
        "pandas_version": "1.4.0"
       },
       "data": [
        {
         "0": 0,
         "index": "variance"
        },
        {
         "0": 0,
         "index": "skewness"
        },
        {
         "0": 0,
         "index": "curtosis"
        },
        {
         "0": 0,
         "index": "entropy"
        },
        {
         "0": 0,
         "index": "class"
        }
       ],
       "datalink": {
        "display_id": "28f5d942-1125-41f6-8c34-e0356ea20657"
       }
      }
     },
     "metadata": {
      "application/vnd.dataresource+json": {
       "datalink": {
        "dataframe_info": {
         "default_index_used": false,
         "orig_size_bytes": 80,
         "orig_num_rows": 5,
         "orig_num_cols": 1,
         "truncated_string_columns": [],
         "truncated_size_bytes": 80,
         "truncated_num_rows": 5,
         "truncated_num_cols": 1
        },
        "dx_settings": {
         "NUM_PAST_SAMPLES_TRACKED": 3,
         "ENABLE_DATALINK": true,
         "DISPLAY_MODE": "simple",
         "GENERATE_DEX_METADATA": false,
         "STRINGIFY_INDEX_VALUES": false,
         "ALLOW_NOTEABLE_ATTRS": true,
         "DISPLAY_MAX_COLUMNS": 100,
         "HTML_TABLE_SCHEMA": false,
         "SAMPLING_FACTOR": 0.1,
         "LOG_LEVEL": 30,
         "ENABLE_ASSIGNMENT": true,
         "FLATTEN_INDEX_VALUES": false,
         "DEV_MODE": false,
         "COLUMN_SAMPLING_METHOD": "outer",
         "FLATTEN_COLUMN_VALUES": true,
         "DISPLAY_MAX_ROWS": 50000,
         "ROW_SAMPLING_METHOD": "random",
         "RANDOM_STATE": 12648430,
         "DB_LOCATION": ":memory:",
         "STRINGIFY_COLUMN_VALUES": true,
         "SAMPLING_METHOD": "random",
         "MAX_STRING_LENGTH": 250,
         "MAX_RENDER_SIZE_BYTES": 104857600,
         "RESET_INDEX_VALUES": false
        },
        "display_id": "28f5d942-1125-41f6-8c34-e0356ea20657",
        "applied_filters": [],
        "sample_history": [],
        "sampling_time": "2023-05-24T14:50:29.718794",
        "variable_name": "unk_dataframe_47dd95a07c0844f9b173ff282ad209a8",
        "user_variable_name": null
       },
       "display_id": "28f5d942-1125-41f6-8c34-e0356ea20657"
      }
     }
    }
   ],
   "execution_count": null,
   "metadata": {
    "jupyter": {
     "outputs_hidden": false,
     "source_hidden": false
    },
    "noteable": {
     "cell_type": "code"
    },
    "ExecuteTime": {
     "end_time": "2023-05-24T14:50:29.874399+00:00",
     "start_time": "2023-05-24T14:50:29.682566+00:00"
    },
    "datalink": {
     "9c84a4f9-41b2-4bea-bdbe-222246ef2c89": {
      "applied_filters": [],
      "dataframe_info": {
       "default_index_used": false,
       "orig_num_cols": 1,
       "orig_num_rows": 5,
       "orig_size_bytes": 80,
       "truncated_num_cols": 1,
       "truncated_num_rows": 5,
       "truncated_size_bytes": 80,
       "truncated_string_columns": []
      },
      "display_id": "9c84a4f9-41b2-4bea-bdbe-222246ef2c89",
      "dx_settings": {
       "ALLOW_NOTEABLE_ATTRS": true,
       "COLUMN_SAMPLING_METHOD": "outer",
       "DB_LOCATION": ":memory:",
       "DEV_MODE": false,
       "DISPLAY_MAX_COLUMNS": 100,
       "DISPLAY_MAX_ROWS": 50000,
       "DISPLAY_MODE": "simple",
       "ENABLE_ASSIGNMENT": true,
       "ENABLE_DATALINK": true,
       "FLATTEN_COLUMN_VALUES": true,
       "FLATTEN_INDEX_VALUES": false,
       "GENERATE_DEX_METADATA": false,
       "HTML_TABLE_SCHEMA": false,
       "LOG_LEVEL": 30,
       "MAX_RENDER_SIZE_BYTES": 104857600,
       "MAX_STRING_LENGTH": 250,
       "NUM_PAST_SAMPLES_TRACKED": 3,
       "RANDOM_STATE": 12648430,
       "RESET_INDEX_VALUES": false,
       "ROW_SAMPLING_METHOD": "random",
       "SAMPLING_FACTOR": 0.1,
       "SAMPLING_METHOD": "random",
       "STRINGIFY_COLUMN_VALUES": true,
       "STRINGIFY_INDEX_VALUES": false
      },
      "sample_history": [],
      "sampling_time": "2023-05-24T14:45:07.999474",
      "user_variable_name": null,
      "variable_name": "unk_dataframe_0aed93c3f61243e3971e683958bf4eb2"
     },
     "28f5d942-1125-41f6-8c34-e0356ea20657": {
      "applied_filters": [],
      "dataframe_info": {
       "default_index_used": false,
       "orig_num_cols": 1,
       "orig_num_rows": 5,
       "orig_size_bytes": 80,
       "truncated_num_cols": 1,
       "truncated_num_rows": 5,
       "truncated_size_bytes": 80,
       "truncated_string_columns": []
      },
      "display_id": "28f5d942-1125-41f6-8c34-e0356ea20657",
      "dx_settings": {
       "ALLOW_NOTEABLE_ATTRS": true,
       "COLUMN_SAMPLING_METHOD": "outer",
       "DB_LOCATION": ":memory:",
       "DEV_MODE": false,
       "DISPLAY_MAX_COLUMNS": 100,
       "DISPLAY_MAX_ROWS": 50000,
       "DISPLAY_MODE": "simple",
       "ENABLE_ASSIGNMENT": true,
       "ENABLE_DATALINK": true,
       "FLATTEN_COLUMN_VALUES": true,
       "FLATTEN_INDEX_VALUES": false,
       "GENERATE_DEX_METADATA": false,
       "HTML_TABLE_SCHEMA": false,
       "LOG_LEVEL": 30,
       "MAX_RENDER_SIZE_BYTES": 104857600,
       "MAX_STRING_LENGTH": 250,
       "NUM_PAST_SAMPLES_TRACKED": 3,
       "RANDOM_STATE": 12648430,
       "RESET_INDEX_VALUES": false,
       "ROW_SAMPLING_METHOD": "random",
       "SAMPLING_FACTOR": 0.1,
       "SAMPLING_METHOD": "random",
       "STRINGIFY_COLUMN_VALUES": true,
       "STRINGIFY_INDEX_VALUES": false
      },
      "sample_history": [],
      "sampling_time": "2023-05-24T14:50:29.718794",
      "user_variable_name": null,
      "variable_name": "unk_dataframe_47dd95a07c0844f9b173ff282ad209a8"
     }
    }
   },
   "id": "832e6707-384c-4d5c-81b4-31e51aa28f91"
  },
  {
   "cell_type": "code",
   "source": [
    "df['class'].value_counts()"
   ],
   "outputs": [
    {
     "output_type": "display_data",
     "data": {
      "application/vnd.dataresource+json": {
       "schema": {
        "fields": [
         {
          "name": "index",
          "type": "integer"
         },
         {
          "name": "class",
          "type": "integer"
         }
        ],
        "primaryKey": [
         "index"
        ],
        "pandas_version": "1.4.0"
       },
       "data": [
        {
         "index": 0,
         "class": 762
        },
        {
         "index": 1,
         "class": 610
        }
       ],
       "datalink": {
        "display_id": "a2de31ff-66a1-4fc2-882e-437ef7a02ab9"
       }
      }
     },
     "metadata": {
      "application/vnd.dataresource+json": {
       "datalink": {
        "dataframe_info": {
         "default_index_used": true,
         "orig_size_bytes": 140,
         "orig_num_rows": 2,
         "orig_num_cols": 1,
         "truncated_string_columns": [],
         "truncated_size_bytes": 140,
         "truncated_num_rows": 2,
         "truncated_num_cols": 1
        },
        "dx_settings": {
         "NUM_PAST_SAMPLES_TRACKED": 3,
         "ENABLE_DATALINK": true,
         "DISPLAY_MODE": "simple",
         "GENERATE_DEX_METADATA": false,
         "STRINGIFY_INDEX_VALUES": false,
         "ALLOW_NOTEABLE_ATTRS": true,
         "DISPLAY_MAX_COLUMNS": 100,
         "HTML_TABLE_SCHEMA": false,
         "SAMPLING_FACTOR": 0.1,
         "LOG_LEVEL": 30,
         "ENABLE_ASSIGNMENT": true,
         "FLATTEN_INDEX_VALUES": false,
         "DEV_MODE": false,
         "COLUMN_SAMPLING_METHOD": "outer",
         "FLATTEN_COLUMN_VALUES": true,
         "DISPLAY_MAX_ROWS": 50000,
         "ROW_SAMPLING_METHOD": "random",
         "RANDOM_STATE": 12648430,
         "DB_LOCATION": ":memory:",
         "STRINGIFY_COLUMN_VALUES": true,
         "SAMPLING_METHOD": "random",
         "MAX_STRING_LENGTH": 250,
         "MAX_RENDER_SIZE_BYTES": 104857600,
         "RESET_INDEX_VALUES": false
        },
        "display_id": "a2de31ff-66a1-4fc2-882e-437ef7a02ab9",
        "applied_filters": [],
        "sample_history": [],
        "sampling_time": "2023-05-24T14:50:29.916119",
        "variable_name": "unk_dataframe_21b82f567a9143aab5e6d499a47e1c80",
        "user_variable_name": null
       },
       "display_id": "a2de31ff-66a1-4fc2-882e-437ef7a02ab9"
      }
     }
    }
   ],
   "execution_count": null,
   "metadata": {
    "jupyter": {
     "outputs_hidden": false,
     "source_hidden": false
    },
    "noteable": {
     "cell_type": "code"
    },
    "ExecuteTime": {
     "end_time": "2023-05-24T14:50:30.071568+00:00",
     "start_time": "2023-05-24T14:50:29.883295+00:00"
    },
    "datalink": {
     "479f2147-049b-438d-b91a-31ac81019cfc": {
      "applied_filters": [],
      "dataframe_info": {
       "default_index_used": true,
       "orig_num_cols": 1,
       "orig_num_rows": 2,
       "orig_size_bytes": 140,
       "truncated_num_cols": 1,
       "truncated_num_rows": 2,
       "truncated_size_bytes": 140,
       "truncated_string_columns": []
      },
      "display_id": "479f2147-049b-438d-b91a-31ac81019cfc",
      "dx_settings": {
       "ALLOW_NOTEABLE_ATTRS": true,
       "COLUMN_SAMPLING_METHOD": "outer",
       "DB_LOCATION": ":memory:",
       "DEV_MODE": false,
       "DISPLAY_MAX_COLUMNS": 100,
       "DISPLAY_MAX_ROWS": 50000,
       "DISPLAY_MODE": "simple",
       "ENABLE_ASSIGNMENT": true,
       "ENABLE_DATALINK": true,
       "FLATTEN_COLUMN_VALUES": true,
       "FLATTEN_INDEX_VALUES": false,
       "GENERATE_DEX_METADATA": false,
       "HTML_TABLE_SCHEMA": false,
       "LOG_LEVEL": 30,
       "MAX_RENDER_SIZE_BYTES": 104857600,
       "MAX_STRING_LENGTH": 250,
       "NUM_PAST_SAMPLES_TRACKED": 3,
       "RANDOM_STATE": 12648430,
       "RESET_INDEX_VALUES": false,
       "ROW_SAMPLING_METHOD": "random",
       "SAMPLING_FACTOR": 0.1,
       "SAMPLING_METHOD": "random",
       "STRINGIFY_COLUMN_VALUES": true,
       "STRINGIFY_INDEX_VALUES": false
      },
      "sample_history": [],
      "sampling_time": "2023-05-24T14:45:36.242640",
      "user_variable_name": null,
      "variable_name": "unk_dataframe_581195cbb84c42e7821665673dc1b8b7"
     },
     "a2de31ff-66a1-4fc2-882e-437ef7a02ab9": {
      "applied_filters": [],
      "dataframe_info": {
       "default_index_used": true,
       "orig_num_cols": 1,
       "orig_num_rows": 2,
       "orig_size_bytes": 140,
       "truncated_num_cols": 1,
       "truncated_num_rows": 2,
       "truncated_size_bytes": 140,
       "truncated_string_columns": []
      },
      "display_id": "a2de31ff-66a1-4fc2-882e-437ef7a02ab9",
      "dx_settings": {
       "ALLOW_NOTEABLE_ATTRS": true,
       "COLUMN_SAMPLING_METHOD": "outer",
       "DB_LOCATION": ":memory:",
       "DEV_MODE": false,
       "DISPLAY_MAX_COLUMNS": 100,
       "DISPLAY_MAX_ROWS": 50000,
       "DISPLAY_MODE": "simple",
       "ENABLE_ASSIGNMENT": true,
       "ENABLE_DATALINK": true,
       "FLATTEN_COLUMN_VALUES": true,
       "FLATTEN_INDEX_VALUES": false,
       "GENERATE_DEX_METADATA": false,
       "HTML_TABLE_SCHEMA": false,
       "LOG_LEVEL": 30,
       "MAX_RENDER_SIZE_BYTES": 104857600,
       "MAX_STRING_LENGTH": 250,
       "NUM_PAST_SAMPLES_TRACKED": 3,
       "RANDOM_STATE": 12648430,
       "RESET_INDEX_VALUES": false,
       "ROW_SAMPLING_METHOD": "random",
       "SAMPLING_FACTOR": 0.1,
       "SAMPLING_METHOD": "random",
       "STRINGIFY_COLUMN_VALUES": true,
       "STRINGIFY_INDEX_VALUES": false
      },
      "sample_history": [],
      "sampling_time": "2023-05-24T14:50:29.916119",
      "user_variable_name": null,
      "variable_name": "unk_dataframe_21b82f567a9143aab5e6d499a47e1c80"
     }
    }
   },
   "id": "88a87ad2-98d5-460d-a9d1-703dab60fef6"
  },
  {
   "cell_type": "code",
   "source": [
    "df.describe()"
   ],
   "outputs": [
    {
     "output_type": "display_data",
     "data": {
      "application/vnd.dataresource+json": {
       "schema": {
        "fields": [
         {
          "name": "index",
          "type": "string"
         },
         {
          "name": "variance",
          "type": "number"
         },
         {
          "name": "skewness",
          "type": "number"
         },
         {
          "name": "curtosis",
          "type": "number"
         },
         {
          "name": "entropy",
          "type": "number"
         },
         {
          "name": "class",
          "type": "number"
         }
        ],
        "primaryKey": [
         "index"
        ],
        "pandas_version": "1.4.0"
       },
       "data": [
        {
         "index": "count",
         "variance": 1372,
         "skewness": 1372,
         "curtosis": 1372,
         "entropy": 1372,
         "class": 1372
        },
        {
         "index": "mean",
         "variance": 0.4337352570699707,
         "skewness": 1.9223531206393585,
         "curtosis": 1.3976271172667638,
         "entropy": -1.1916565200437317,
         "class": 0.4446064139941691
        },
        {
         "index": "std",
         "variance": 2.842762586278562,
         "skewness": 5.869046743695522,
         "curtosis": 4.310030090106595,
         "entropy": 2.1010131373596095,
         "class": 0.4971032701256577
        },
        {
         "index": "min",
         "variance": -7.0421,
         "skewness": -13.7731,
         "curtosis": -5.2861,
         "entropy": -8.5482,
         "class": 0
        },
        {
         "index": "25%",
         "variance": -1.7730000000000001,
         "skewness": -1.7082000000000002,
         "curtosis": -1.574975,
         "entropy": -2.41345,
         "class": 0
        },
        {
         "index": "50%",
         "variance": 0.49617999999999995,
         "skewness": 2.31965,
         "curtosis": 0.61663,
         "entropy": -0.58665,
         "class": 0
        },
        {
         "index": "75%",
         "variance": 2.821475,
         "skewness": 6.8146249999999995,
         "curtosis": 3.1792499999999997,
         "entropy": 0.39481,
         "class": 1
        },
        {
         "index": "max",
         "variance": 6.8248,
         "skewness": 12.9516,
         "curtosis": 17.9274,
         "entropy": 2.4495,
         "class": 1
        }
       ],
       "datalink": {
        "display_id": "e340488e-d73e-45b2-9394-e0e5c7690800"
       }
      }
     },
     "metadata": {
      "application/vnd.dataresource+json": {
       "datalink": {
        "dataframe_info": {
         "default_index_used": false,
         "orig_size_bytes": 384,
         "orig_num_rows": 8,
         "orig_num_cols": 5,
         "truncated_string_columns": [],
         "truncated_size_bytes": 384,
         "truncated_num_rows": 8,
         "truncated_num_cols": 5
        },
        "dx_settings": {
         "NUM_PAST_SAMPLES_TRACKED": 3,
         "ENABLE_DATALINK": true,
         "DISPLAY_MODE": "simple",
         "GENERATE_DEX_METADATA": false,
         "STRINGIFY_INDEX_VALUES": false,
         "ALLOW_NOTEABLE_ATTRS": true,
         "DISPLAY_MAX_COLUMNS": 100,
         "HTML_TABLE_SCHEMA": false,
         "SAMPLING_FACTOR": 0.1,
         "LOG_LEVEL": 30,
         "ENABLE_ASSIGNMENT": true,
         "FLATTEN_INDEX_VALUES": false,
         "DEV_MODE": false,
         "COLUMN_SAMPLING_METHOD": "outer",
         "FLATTEN_COLUMN_VALUES": true,
         "DISPLAY_MAX_ROWS": 50000,
         "ROW_SAMPLING_METHOD": "random",
         "RANDOM_STATE": 12648430,
         "DB_LOCATION": ":memory:",
         "STRINGIFY_COLUMN_VALUES": true,
         "SAMPLING_METHOD": "random",
         "MAX_STRING_LENGTH": 250,
         "MAX_RENDER_SIZE_BYTES": 104857600,
         "RESET_INDEX_VALUES": false
        },
        "display_id": "e340488e-d73e-45b2-9394-e0e5c7690800",
        "applied_filters": [],
        "sample_history": [],
        "sampling_time": "2023-05-24T14:50:30.133033",
        "variable_name": "unk_dataframe_915cdfd6ca9b4c0a9afa1e350a2daae8",
        "user_variable_name": null
       },
       "display_id": "e340488e-d73e-45b2-9394-e0e5c7690800"
      }
     }
    }
   ],
   "execution_count": null,
   "metadata": {
    "jupyter": {
     "outputs_hidden": false,
     "source_hidden": false
    },
    "noteable": {
     "cell_type": "code"
    },
    "ExecuteTime": {
     "end_time": "2023-05-24T14:50:30.289414+00:00",
     "start_time": "2023-05-24T14:50:30.079531+00:00"
    },
    "datalink": {
     "6c8fc63e-5d70-4eda-b373-c5408ba2d0fd": {
      "applied_filters": [],
      "dataframe_info": {
       "default_index_used": false,
       "orig_num_cols": 5,
       "orig_num_rows": 8,
       "orig_size_bytes": 384,
       "truncated_num_cols": 5,
       "truncated_num_rows": 8,
       "truncated_size_bytes": 384,
       "truncated_string_columns": []
      },
      "display_id": "6c8fc63e-5d70-4eda-b373-c5408ba2d0fd",
      "dx_settings": {
       "ALLOW_NOTEABLE_ATTRS": true,
       "COLUMN_SAMPLING_METHOD": "outer",
       "DB_LOCATION": ":memory:",
       "DEV_MODE": false,
       "DISPLAY_MAX_COLUMNS": 100,
       "DISPLAY_MAX_ROWS": 50000,
       "DISPLAY_MODE": "simple",
       "ENABLE_ASSIGNMENT": true,
       "ENABLE_DATALINK": true,
       "FLATTEN_COLUMN_VALUES": true,
       "FLATTEN_INDEX_VALUES": false,
       "GENERATE_DEX_METADATA": false,
       "HTML_TABLE_SCHEMA": false,
       "LOG_LEVEL": 30,
       "MAX_RENDER_SIZE_BYTES": 104857600,
       "MAX_STRING_LENGTH": 250,
       "NUM_PAST_SAMPLES_TRACKED": 3,
       "RANDOM_STATE": 12648430,
       "RESET_INDEX_VALUES": false,
       "ROW_SAMPLING_METHOD": "random",
       "SAMPLING_FACTOR": 0.1,
       "SAMPLING_METHOD": "random",
       "STRINGIFY_COLUMN_VALUES": true,
       "STRINGIFY_INDEX_VALUES": false
      },
      "sample_history": [],
      "sampling_time": "2023-05-24T14:46:08.774620",
      "user_variable_name": null,
      "variable_name": "unk_dataframe_bc14752e04d543578f3462cd837ee7bf"
     },
     "e340488e-d73e-45b2-9394-e0e5c7690800": {
      "applied_filters": [],
      "dataframe_info": {
       "default_index_used": false,
       "orig_num_cols": 5,
       "orig_num_rows": 8,
       "orig_size_bytes": 384,
       "truncated_num_cols": 5,
       "truncated_num_rows": 8,
       "truncated_size_bytes": 384,
       "truncated_string_columns": []
      },
      "display_id": "e340488e-d73e-45b2-9394-e0e5c7690800",
      "dx_settings": {
       "ALLOW_NOTEABLE_ATTRS": true,
       "COLUMN_SAMPLING_METHOD": "outer",
       "DB_LOCATION": ":memory:",
       "DEV_MODE": false,
       "DISPLAY_MAX_COLUMNS": 100,
       "DISPLAY_MAX_ROWS": 50000,
       "DISPLAY_MODE": "simple",
       "ENABLE_ASSIGNMENT": true,
       "ENABLE_DATALINK": true,
       "FLATTEN_COLUMN_VALUES": true,
       "FLATTEN_INDEX_VALUES": false,
       "GENERATE_DEX_METADATA": false,
       "HTML_TABLE_SCHEMA": false,
       "LOG_LEVEL": 30,
       "MAX_RENDER_SIZE_BYTES": 104857600,
       "MAX_STRING_LENGTH": 250,
       "NUM_PAST_SAMPLES_TRACKED": 3,
       "RANDOM_STATE": 12648430,
       "RESET_INDEX_VALUES": false,
       "ROW_SAMPLING_METHOD": "random",
       "SAMPLING_FACTOR": 0.1,
       "SAMPLING_METHOD": "random",
       "STRINGIFY_COLUMN_VALUES": true,
       "STRINGIFY_INDEX_VALUES": false
      },
      "sample_history": [],
      "sampling_time": "2023-05-24T14:50:30.133033",
      "user_variable_name": null,
      "variable_name": "unk_dataframe_915cdfd6ca9b4c0a9afa1e350a2daae8"
     }
    }
   },
   "id": "740a0cb6-dda7-48f2-a2c3-13ce434512cd"
  },
  {
   "cell_type": "code",
   "source": [
    "df.hist(bins=20, figsize=(15, 10))\n",
    "plt.tight_layout()\n",
    "plt.show()"
   ],
   "outputs": [
    {
     "output_type": "display_data",
     "data": {
      "image/png": "[encoded data removed]"
     },
     "metadata": {}
    }
   ],
   "execution_count": null,
   "metadata": {
    "jupyter": {
     "outputs_hidden": false,
     "source_hidden": false
    },
    "noteable": {
     "cell_type": "code"
    },
    "ExecuteTime": {
     "end_time": "2023-05-24T14:50:31.956097+00:00",
     "start_time": "2023-05-24T14:50:30.295967+00:00"
    }
   },
   "id": "c61fd23e-bed6-4ab4-83af-808909bb3708"
  },
  {
   "cell_type": "code",
   "source": [
    "corr_matrix = df.corr()\n",
    "plt.figure(figsize=(10, 8))\n",
    "sns.heatmap(corr_matrix, annot=True, cmap='coolwarm')\n",
    "plt.title('Correlation Matrix')\n",
    "plt.show()"
   ],
   "outputs": [
    {
     "output_type": "display_data",
     "data": {
      "image/png": "[encoded data removed]"
     },
     "metadata": {}
    }
   ],
   "execution_count": null,
   "metadata": {
    "jupyter": {
     "outputs_hidden": false,
     "source_hidden": false
    },
    "noteable": {
     "cell_type": "code"
    },
    "ExecuteTime": {
     "end_time": "2023-05-24T14:50:32.935539+00:00",
     "start_time": "2023-05-24T14:50:32.360721+00:00"
    }
   },
   "id": "48d7cbd4-22a3-4dc9-a8d5-610fda9a5393"
  },
  {
   "cell_type": "markdown",
   "source": [
    "In the code below, we are preparing our data for the machine learning models.\n",
    "\n",
    "1. We first separate our data into features (X) and target (y). The features are all the columns except 'class', which is our target. The 'drop' function is used to remove the 'class' column from the DataFrame, and the result is stored in X. The 'class' column is stored in y.\n",
    "\n",
    "2. We then split our data into training and test sets. The 'train_test_split' function from sklearn.model_selection is used for this purpose. We pass in our features and target, and specify that we want 20% of the data to be in the test set (test_size=0.2). We also set the random_state to 42 for reproducibility. The function returns four outputs: X_train, X_test, y_train, y_test. X_train and y_train are the features and target for the training set, and X_test and y_test are the features and target for the test set.\n",
    "\n",
    "5. We initialize the StandardScaler. This is a utility from sklearn.preprocessing that standardizes features by removing the mean and scaling to unit variance.\n",
    "\n",
    "6. We fit the StandardScaler on our training data. This calculates the mean and standard deviation of the data, which will be used for scaling.\n",
    "\n",
    "7. We transform our training and test data using the fitted scaler. This subtracts the mean and divides by the standard deviation for each feature in the data.\n",
    "\n",
    "\n",
    "By splitting our data into a training set and\n",
    "a test set, we can train our model on the training set and then evaluate its performance on the test set. This gives us an estimate of how well our model is likely to perform. Also with scaling the data is an important step in many machine learning algorithms. It ensures that all features have the same scale, which can lead to better performance.\n"
   ],
   "metadata": {
    "jupyter": {
     "outputs_hidden": false,
     "source_hidden": false
    },
    "noteable": {
     "cell_type": "markdown"
    }
   },
   "id": "ef19b501-514b-446b-a0d4-44fc096cde82"
  },
  {
   "cell_type": "code",
   "source": [
    "# Split the data into features (X) and target (y)\n",
    "X = df.drop('class', axis=1)\n",
    "y = df['class']\n",
    "\n",
    "# Split the data into training and test sets\n",
    "X_train, X_test, y_train, y_test = train_test_split(X, y, test_size=0.2, random_state=42)"
   ],
   "outputs": [],
   "execution_count": null,
   "metadata": {
    "jupyter": {
     "outputs_hidden": false,
     "source_hidden": false
    },
    "noteable": {
     "cell_type": "code"
    },
    "ExecuteTime": {
     "end_time": "2023-05-24T14:50:33.343872+00:00",
     "start_time": "2023-05-24T14:50:33.184722+00:00"
    }
   },
   "id": "2d757c50-41c4-4601-8563-52f155140bbd"
  },
  {
   "cell_type": "code",
   "source": [
    "# Initialize the StandardScaler\n",
    "scaler = StandardScaler()\n",
    "\n",
    "# Fit on the training data\n",
    "scaler.fit(X_train)\n",
    "\n",
    "# Transform both the training and test data\n",
    "X_train = scaler.transform(X_train)\n",
    "X_test = scaler.transform(X_test)"
   ],
   "outputs": [],
   "execution_count": null,
   "metadata": {
    "jupyter": {
     "outputs_hidden": false,
     "source_hidden": false
    },
    "noteable": {
     "cell_type": "code"
    },
    "ExecuteTime": {
     "end_time": "2023-05-24T14:50:48.404498+00:00",
     "start_time": "2023-05-24T14:50:48.241342+00:00"
    }
   },
   "id": "27da737e-7a95-423e-bb35-88b0fb20b135"
  },
  {
   "cell_type": "markdown",
   "source": [
    "Now that we prepared our data, we will test, evaluate and compare different classification algorithms on our dataset."
   ],
   "metadata": {
    "noteable": {
     "cell_type": "markdown"
    }
   },
   "id": "a072659b-600c-43a4-a2b2-2e7cce6d8316"
  },
  {
   "cell_type": "markdown",
   "source": [
    "In the code below, we are applying the Logistic Regression algorithm to our data.\n",
    "\n",
    "Logistic Regression steps:\n",
    "\n",
    "1. We first import the LogisticRegression from sklearn.linear_model witch is is the implementation of the Logistic Regression algorithm in scikit-learn.\n",
    "\n",
    "2. We then initialize the model with the default parameters. We set the random_state to 42 for reproducibility.\n",
    "\n",
    "3. We train the model on our training data using the fit method. This is where the model learns the relationships between the features and the target.\n",
    "\n",
    "4. We use the trained model to make predictions on our test data. The predict method takes the test features as input and returns the predicted target values.\n",
    "\n",
    "5. We calculate the accuracy of our model by comparing the predicted target values to the actual target values in the test set. The accuracy_score function from sklearn.metrics is used for this purpose.\n",
    "\n",
    "6. We print the accuracy of our model.\n",
    "\n",
    "7. Finally, we generate a classification report, which provides detailed metrics about our model's performance. The classification_report function from sklearn.metrics is used for this purpose. The report includes metrics such as precision, recall, and f1-score for each class, as well as the overall accuracy of the model."
   ],
   "metadata": {
    "jupyter": {
     "outputs_hidden": false,
     "source_hidden": false
    },
    "noteable": {
     "cell_type": "markdown"
    }
   },
   "id": "8879ad8a-3c67-43d4-86e7-84e081112382"
  },
  {
   "cell_type": "code",
   "source": [
    "from sklearn.linear_model import LogisticRegression\n",
    "\n",
    "# Initialize the model\n",
    "log_reg = LogisticRegression(random_state=42)\n",
    "\n",
    "# Train the model\n",
    "log_reg.fit(X_train, y_train)\n",
    "\n",
    "# Make predictions\n",
    "y_pred_log_reg = log_reg.predict(X_test)\n",
    "\n",
    "# Calculate the accuracy\n",
    "accuracy_log_reg = accuracy_score(y_test, y_pred_log_reg)\n",
    "\n",
    "# Print the accuracy\n",
    "print('Accuracy of Logistic Regression: ', accuracy_log_reg)\n",
    "\n",
    "# Generate and print the classification report\n",
    "print(classification_report(y_test, y_pred_log_reg))"
   ],
   "outputs": [
    {
     "output_type": "stream",
     "name": "stdout",
     "text": [
      "Accuracy of Logistic Regression:  0.9781818181818182\n",
      "              precision    recall  f1-score   support\n",
      "\n",
      "           0       0.99      0.97      0.98       148\n",
      "           1       0.97      0.98      0.98       127\n",
      "\n",
      "    accuracy                           0.98       275\n",
      "   macro avg       0.98      0.98      0.98       275\n",
      "weighted avg       0.98      0.98      0.98       275\n",
      "\n"
     ]
    }
   ],
   "execution_count": null,
   "metadata": {
    "jupyter": {
     "outputs_hidden": false,
     "source_hidden": false
    },
    "noteable": {
     "cell_type": "code"
    },
    "ExecuteTime": {
     "end_time": "2023-05-24T14:51:41.784653+00:00",
     "start_time": "2023-05-24T14:51:41.579306+00:00"
    }
   },
   "id": "d4fac847-882c-417c-9fe6-7935b8f1cc04"
  },
  {
   "cell_type": "code",
   "source": [
    "from sklearn.tree import DecisionTreeClassifier\n",
    "\n",
    "# Initialize the model\n",
    "dt = DecisionTreeClassifier(random_state=42)\n",
    "\n",
    "# Train the model\n",
    "dt.fit(X_train, y_train)\n",
    "\n",
    "# Make predictions\n",
    "y_pred_dt = dt.predict(X_test)\n",
    "\n",
    "# Calculate the accuracy\n",
    "accuracy_dt = accuracy_score(y_test, y_pred_dt)\n",
    "\n",
    "# Print the accuracy\n",
    "print('Accuracy of Decision Tree: ', accuracy_dt)\n",
    "\n",
    "# Generate and print the classification report\n",
    "print(classification_report(y_test, y_pred_dt))"
   ],
   "outputs": [
    {
     "output_type": "stream",
     "name": "stdout",
     "text": [
      "Accuracy of Decision Tree:  0.9818181818181818\n",
      "              precision    recall  f1-score   support\n",
      "\n",
      "           0       0.97      1.00      0.98       148\n",
      "           1       1.00      0.96      0.98       127\n",
      "\n",
      "    accuracy                           0.98       275\n",
      "   macro avg       0.98      0.98      0.98       275\n",
      "weighted avg       0.98      0.98      0.98       275\n",
      "\n"
     ]
    }
   ],
   "execution_count": null,
   "metadata": {
    "jupyter": {
     "outputs_hidden": true,
     "source_hidden": true
    },
    "noteable": {
     "cell_type": "code"
    },
    "ExecuteTime": {
     "end_time": "2023-05-24T14:52:40.008236+00:00",
     "start_time": "2023-05-24T14:52:39.826767+00:00"
    }
   },
   "id": "2c387934-6a82-4a5e-81d5-3e808c6965c9"
  },
  {
   "cell_type": "markdown",
   "source": [
    "In the code below, we are applying the Random Forest algorithm to our data.\n",
    "\n",
    "Random Forest steps:\n",
    "\n",
    "1. We first import the RandomForestClassifier from sklearn.ensemble. This is the implementation of the Random Forest algorithm in scikit-learn.\n",
    "\n",
    "2. We then initialize the model with the default parameters. We set the random_state to 42 for reproducibility.\n",
    "\n",
    "3. We train the model on our training data using the fit method. This is where the model learns the relationships between the features and the target.\n",
    "\n",
    "4. We use the trained model to make predictions on our test data. The predict method takes the test features as input and returns the predicted target values.\n",
    "\n",
    "5. We calculate the accuracy of our model by comparing the predicted target values to the actual target values in the test set. The accuracy_score function from sklearn.metrics is used for this purpose.\n",
    "\n",
    "6. We print the accuracy of our model.\n",
    "\n",
    "7. Finally, we generate a classification report as we did in the previous classification algorithms. "
   ],
   "metadata": {
    "jupyter": {
     "outputs_hidden": false,
     "source_hidden": false
    },
    "noteable": {
     "cell_type": "markdown"
    }
   },
   "id": "a4b92483-0f76-4bc1-ae36-6793be3caa75"
  },
  {
   "cell_type": "code",
   "source": [
    "from sklearn.ensemble import RandomForestClassifier\n",
    "\n",
    "# Initialize the model\n",
    "rf = RandomForestClassifier(random_state=42)\n",
    "\n",
    "# Train the model\n",
    "rf.fit(X_train, y_train)\n",
    "\n",
    "# Make predictions\n",
    "y_pred_rf = rf.predict(X_test)\n",
    "\n",
    "# Calculate the accuracy\n",
    "accuracy_rf = accuracy_score(y_test, y_pred_rf)\n",
    "\n",
    "# Print the accuracy\n",
    "print('Accuracy of Random Forest: ', accuracy_rf)\n",
    "\n",
    "# Generate and print the classification report\n",
    "print(classification_report(y_test, y_pred_rf))"
   ],
   "outputs": [
    {
     "output_type": "stream",
     "name": "stdout",
     "text": [
      "Accuracy of Random Forest:  0.9927272727272727\n",
      "              precision    recall  f1-score   support\n",
      "\n",
      "           0       0.99      1.00      0.99       148\n",
      "           1       1.00      0.98      0.99       127\n",
      "\n",
      "    accuracy                           0.99       275\n",
      "   macro avg       0.99      0.99      0.99       275\n",
      "weighted avg       0.99      0.99      0.99       275\n",
      "\n"
     ]
    }
   ],
   "execution_count": null,
   "metadata": {
    "jupyter": {
     "outputs_hidden": false,
     "source_hidden": false
    },
    "noteable": {
     "cell_type": "code"
    },
    "ExecuteTime": {
     "end_time": "2023-05-24T14:54:42.169266+00:00",
     "start_time": "2023-05-24T14:54:41.755674+00:00"
    }
   },
   "id": "4d04e675-7b09-4577-8619-130d69d71f15"
  },
  {
   "cell_type": "markdown",
   "source": [
    "In the code below, we are applying the Support Vector Machine (SVM) algorithm to our data. \n",
    "\n",
    "Support Vector Machine (SVM) steps:\n",
    "\n",
    "1. We first import the SVC (Support Vector Classification) from sklearn.svm. This is the implementation of the SVM algorithm in scikit-learn.\n",
    "\n",
    "2. We then initialize the model with the default parameters. We set the random_state to 42 for reproducibility.\n",
    "\n",
    "3. We train the model on our training data using the fit method. This is where the model learns the relationships between the features and the target.\n",
    "\n",
    "4. We use the trained model to make predictions on our test data. The predict method takes the test features as input and returns the predicted target values.\n",
    "\n",
    "5. We calculate the accuracy of our model by comparing the predicted target values to the actual target values in the test set. The accuracy_score function from sklearn.metrics is used for this purpose.\n",
    "\n",
    "6. We print the accuracy of our model.\n",
    "\n",
    "7. Finally, we generate a classification report as we did in the previous classification algorithms. "
   ],
   "metadata": {
    "jupyter": {
     "outputs_hidden": false,
     "source_hidden": false
    },
    "noteable": {
     "cell_type": "markdown"
    }
   },
   "id": "4a5c9258-313f-4f3a-ad61-a82a2ad91fe8"
  },
  {
   "cell_type": "code",
   "source": [
    "from sklearn.svm import SVC\n",
    "\n",
    "# Initialize the model\n",
    "svc = SVC(random_state=42)\n",
    "\n",
    "# Train the model\n",
    "svc.fit(X_train, y_train)\n",
    "\n",
    "# Make predictions\n",
    "y_pred_svc = svc.predict(X_test)\n",
    "\n",
    "# Calculate the accuracy\n",
    "accuracy_svc = accuracy_score(y_test, y_pred_svc)\n",
    "\n",
    "# Print the accuracy\n",
    "print('Accuracy of Support Vector Machine: ', accuracy_svc)\n",
    "\n",
    "# Generate and print the classification report\n",
    "print(classification_report(y_test, y_pred_svc))"
   ],
   "outputs": [
    {
     "output_type": "stream",
     "name": "stdout",
     "text": [
      "Accuracy of Support Vector Machine:  1.0\n",
      "              precision    recall  f1-score   support\n",
      "\n",
      "           0       1.00      1.00      1.00       148\n",
      "           1       1.00      1.00      1.00       127\n",
      "\n",
      "    accuracy                           1.00       275\n",
      "   macro avg       1.00      1.00      1.00       275\n",
      "weighted avg       1.00      1.00      1.00       275\n",
      "\n"
     ]
    }
   ],
   "execution_count": null,
   "metadata": {
    "jupyter": {
     "outputs_hidden": false,
     "source_hidden": false
    },
    "noteable": {
     "cell_type": "code"
    },
    "ExecuteTime": {
     "end_time": "2023-05-24T14:55:38.741886+00:00",
     "start_time": "2023-05-24T14:55:38.561590+00:00"
    }
   },
   "id": "395ef70b-758e-44ff-a5fe-4ae10a45c4f1"
  },
  {
   "cell_type": "markdown",
   "source": [
    "In the code below, we are applying the K-Nearest Neighbors (KNN) algorithm to our data.\n",
    "\n",
    "K-Nearest Neighbours steps:\n",
    "\n",
    "1. We first import the KNeighborsClassifier from sklearn.neighbors. This is the implementation of the KNN algorithm in scikit-learn.\n",
    "\n",
    "2. We then initialize the model with the default parameters.\n",
    "\n",
    "3. We train the model on our training data using the fit method. This is where the model learns the relationships between the features and the target.\n",
    "\n",
    "4. We use the trained model to make predictions on our test data. The predict method takes the test features as input and returns the predicted target values.\n",
    "\n",
    "5. We calculate the accuracy of our model by comparing the predicted target values to the actual target values in the test set. The accuracy_score function from sklearn.metrics is used for this purpose.\n",
    "\n",
    "6. We print the accuracy of our model.\n",
    "\n",
    "7. Finally, we generate a classification report as we did in the previous classification algorithms. "
   ],
   "metadata": {
    "jupyter": {
     "outputs_hidden": false,
     "source_hidden": false
    },
    "noteable": {
     "cell_type": "markdown"
    }
   },
   "id": "0c159623-8976-40f1-976a-e994c82c4f02"
  },
  {
   "cell_type": "code",
   "source": [
    "from sklearn.neighbors import KNeighborsClassifier\n",
    "\n",
    "# Initialize the model\n",
    "knn = KNeighborsClassifier()\n",
    "\n",
    "# Train the model\n",
    "knn.fit(X_train, y_train)\n",
    "\n",
    "# Make predictions\n",
    "y_pred_knn = knn.predict(X_test)\n",
    "\n",
    "# Calculate the accuracy\n",
    "accuracy_knn = accuracy_score(y_test, y_pred_knn)\n",
    "\n",
    "# Print the accuracy\n",
    "print('Accuracy of K-Nearest Neighbors: ', accuracy_knn)\n",
    "\n",
    "# Generate and print the classification report\n",
    "print(classification_report(y_test, y_pred_knn))"
   ],
   "outputs": [
    {
     "output_type": "stream",
     "name": "stdout",
     "text": [
      "Accuracy of K-Nearest Neighbors:  1.0\n",
      "              precision    recall  f1-score   support\n",
      "\n",
      "           0       1.00      1.00      1.00       148\n",
      "           1       1.00      1.00      1.00       127\n",
      "\n",
      "    accuracy                           1.00       275\n",
      "   macro avg       1.00      1.00      1.00       275\n",
      "weighted avg       1.00      1.00      1.00       275\n",
      "\n"
     ]
    }
   ],
   "execution_count": null,
   "metadata": {
    "jupyter": {
     "outputs_hidden": false,
     "source_hidden": false
    },
    "noteable": {
     "cell_type": "code"
    },
    "ExecuteTime": {
     "end_time": "2023-05-24T14:56:33.295544+00:00",
     "start_time": "2023-05-24T14:56:33.111503+00:00"
    }
   },
   "id": "da27bd71-5294-4bbc-b964-d1d45be42328"
  },
  {
   "cell_type": "markdown",
   "source": [
    "In the code below, we are comparing the performance of our models.\n",
    "\n",
    "We first create a DataFrame to hold the results. This DataFrame has two columns: 'Model' and 'Accuracy'. The 'Model' column contains the names of our models, and the 'Accuracy' column contains the corresponding accuracy scores.We then sort the DataFrame by the 'Accuracy' column in descending order. This allows us to easily see which model performed the best. We print the DataFrame to display the results.\n",
    "\n",
    "The output is a table that shows the accuracy of each model, sorted from highest to lowest. This allows us to easily compare the performance of our models and select the best one.\n",
    "\n"
   ],
   "metadata": {
    "jupyter": {
     "outputs_hidden": false,
     "source_hidden": false
    },
    "noteable": {
     "cell_type": "markdown"
    }
   },
   "id": "ed2baefd-938b-46ae-a710-5acc8c76f8b2"
  },
  {
   "cell_type": "code",
   "source": [
    "# Create a dataframe to hold the results\n",
    "results = pd.DataFrame({\n",
    "    'Model': ['Logistic Regression', 'Decision Tree', 'Random Forest', 'Support Vector Machine', 'K-Nearest Neighbors'],\n",
    "    'Accuracy': [accuracy_log_reg, accuracy_dt, accuracy_rf, accuracy_svc, accuracy_knn]\n",
    "})\n",
    "\n",
    "# Sort the results by the accuracy\n",
    "results = results.sort_values(by='Accuracy', ascending=False)\n",
    "\n",
    "# Print the results\n",
    "results"
   ],
   "outputs": [
    {
     "output_type": "display_data",
     "data": {
      "application/vnd.dataresource+json": {
       "schema": {
        "fields": [
         {
          "name": "index",
          "type": "integer"
         },
         {
          "name": "Model",
          "type": "string"
         },
         {
          "name": "Accuracy",
          "type": "number"
         }
        ],
        "primaryKey": [
         "index"
        ],
        "pandas_version": "1.4.0"
       },
       "data": [
        {
         "index": 3,
         "Model": "Support Vector Machine",
         "Accuracy": 1
        },
        {
         "index": 4,
         "Model": "K-Nearest Neighbors",
         "Accuracy": 1
        },
        {
         "index": 2,
         "Model": "Random Forest",
         "Accuracy": 0.9927272727272727
        },
        {
         "index": 1,
         "Model": "Decision Tree",
         "Accuracy": 0.9818181818181818
        },
        {
         "index": 0,
         "Model": "Logistic Regression",
         "Accuracy": 0.9781818181818182
        }
       ],
       "datalink": {
        "display_id": "44531a6d-af62-409a-b01e-c89e6b527573"
       }
      }
     },
     "metadata": {
      "application/vnd.dataresource+json": {
       "datalink": {
        "dataframe_info": {
         "default_index_used": true,
         "orig_size_bytes": 292,
         "orig_num_rows": 5,
         "orig_num_cols": 2,
         "truncated_string_columns": [],
         "truncated_size_bytes": 292,
         "truncated_num_rows": 5,
         "truncated_num_cols": 2
        },
        "dx_settings": {
         "NUM_PAST_SAMPLES_TRACKED": 3,
         "ENABLE_DATALINK": true,
         "DISPLAY_MODE": "simple",
         "GENERATE_DEX_METADATA": false,
         "STRINGIFY_INDEX_VALUES": false,
         "ALLOW_NOTEABLE_ATTRS": true,
         "DISPLAY_MAX_COLUMNS": 100,
         "HTML_TABLE_SCHEMA": false,
         "SAMPLING_FACTOR": 0.1,
         "LOG_LEVEL": 30,
         "ENABLE_ASSIGNMENT": true,
         "FLATTEN_INDEX_VALUES": false,
         "DEV_MODE": false,
         "COLUMN_SAMPLING_METHOD": "outer",
         "FLATTEN_COLUMN_VALUES": true,
         "DISPLAY_MAX_ROWS": 50000,
         "ROW_SAMPLING_METHOD": "random",
         "RANDOM_STATE": 12648430,
         "DB_LOCATION": ":memory:",
         "STRINGIFY_COLUMN_VALUES": true,
         "SAMPLING_METHOD": "random",
         "MAX_STRING_LENGTH": 250,
         "MAX_RENDER_SIZE_BYTES": 104857600,
         "RESET_INDEX_VALUES": false
        },
        "display_id": "44531a6d-af62-409a-b01e-c89e6b527573",
        "applied_filters": [],
        "sample_history": [],
        "sampling_time": "2023-05-24T14:57:28.402666",
        "variable_name": "results",
        "user_variable_name": "results"
       },
       "display_id": "44531a6d-af62-409a-b01e-c89e6b527573"
      }
     }
    }
   ],
   "execution_count": null,
   "metadata": {
    "jupyter": {
     "outputs_hidden": false,
     "source_hidden": false
    },
    "noteable": {
     "cell_type": "code"
    },
    "ExecuteTime": {
     "end_time": "2023-05-24T14:57:28.559094+00:00",
     "start_time": "2023-05-24T14:57:28.354637+00:00"
    },
    "datalink": {
     "44531a6d-af62-409a-b01e-c89e6b527573": {
      "applied_filters": [],
      "dataframe_info": {
       "default_index_used": true,
       "orig_num_cols": 2,
       "orig_num_rows": 5,
       "orig_size_bytes": 292,
       "truncated_num_cols": 2,
       "truncated_num_rows": 5,
       "truncated_size_bytes": 292,
       "truncated_string_columns": []
      },
      "display_id": "44531a6d-af62-409a-b01e-c89e6b527573",
      "dx_settings": {
       "ALLOW_NOTEABLE_ATTRS": true,
       "COLUMN_SAMPLING_METHOD": "outer",
       "DB_LOCATION": ":memory:",
       "DEV_MODE": false,
       "DISPLAY_MAX_COLUMNS": 100,
       "DISPLAY_MAX_ROWS": 50000,
       "DISPLAY_MODE": "simple",
       "ENABLE_ASSIGNMENT": true,
       "ENABLE_DATALINK": true,
       "FLATTEN_COLUMN_VALUES": true,
       "FLATTEN_INDEX_VALUES": false,
       "GENERATE_DEX_METADATA": false,
       "HTML_TABLE_SCHEMA": false,
       "LOG_LEVEL": 30,
       "MAX_RENDER_SIZE_BYTES": 104857600,
       "MAX_STRING_LENGTH": 250,
       "NUM_PAST_SAMPLES_TRACKED": 3,
       "RANDOM_STATE": 12648430,
       "RESET_INDEX_VALUES": false,
       "ROW_SAMPLING_METHOD": "random",
       "SAMPLING_FACTOR": 0.1,
       "SAMPLING_METHOD": "random",
       "STRINGIFY_COLUMN_VALUES": true,
       "STRINGIFY_INDEX_VALUES": false
      },
      "sample_history": [],
      "sampling_time": "2023-05-24T14:57:28.402666",
      "user_variable_name": "results",
      "variable_name": "results"
     }
    }
   },
   "id": "e6e8e99b-828f-44f4-870d-0dc472a9981d"
  },
  {
   "cell_type": "markdown",
   "source": [
    "## SUMMARY\n",
    "\n",
    "Based on the accuracy results, the Support Vector Machine (SVM) and K-Nearest Neighbors (KNN) models achieved the highest accuracy of 100%. This means that they correctly classified all the banknotes in the test set as genuine or forged.\n",
    "\n",
    "The Random Forest model performed with an accuracy of 99.27%. The Decision Tree and Logistic Regression models had slightly lower accuracies of approximately 98.18% and 97.82% respectively.\n",
    "\n",
    "The reason for these results are attributed to the nature of the dataset and the characteristics of the algorithms. SVM and KNN are powerful algorithms that can capture complex relationships in the data. SVM, in particular, is effective in high-dimensional spaces as it is the case in our dataset with multiple features. KNN, on the other hand, is a type of instance-based learning that can adapt quickly to changes, making it effective for this dataset.\n",
    "\n",
    "Random Forest, might not have been able to capture some small variations in the data that SVM and KNN could, resulting in a slightly lower accuracy. Decision Tree and Logistic Regression, while still having high accuracies, are considered simpler models and they are not performing as well on complex datasets.\n",
    "\n",
    "However, it's important to note that accuracy isn't the only metric we should consider when evaluating the performance of a model. Depending on the problem at hand, other metrics such as precision, recall, or the F1 score might be more relevant. In this case, since we're dealing with a binary classification problem and our classes are relatively balanced, accuracy is concidered as the most important metric."
   ],
   "metadata": {
    "noteable": {
     "cell_type": "markdown"
    }
   },
   "id": "8c4ac302-0f83-4489-a478-404a3112796e"
  },
  {
   "cell_type": "markdown",
   "source": [
    "### Sources \n",
    "\n",
    "- Data Analysis Lecture and Lab's Slides \n",
    "\n",
    "- Data Science Full course series from Youtube's chanel Simple learn : https://www.youtube.com/@SimplilearnOfficial\n",
    "\n",
    "- https://towardsdatascience.com/top-machine-learning-algorithms-for-classification-2197870ff501\n",
    "\n",
    "- https://www.youtube.com/watch?v=e-lHu0U9UY4\n",
    "\n",
    "- https://www.youtube.com/watch?v=pXdum128xww\n",
    "\n",
    "\n",
    " "
   ],
   "metadata": {
    "noteable": {
     "cell_type": "markdown"
    }
   },
   "id": "2b399025-1ad4-43cc-b28a-f27e5bbeb1d7"
  }
 ],
 "metadata": {
  "noteable-chatgpt": {
   "create_notebook": {
    "openai_conversation_id": "b2742696-8a7f-5347-a4d5-d03567a31181",
    "openai_ephemeral_user_id": "1345dbc9-dc06-59cd-a2cc-19cccff4e2e2",
    "openai_subdivision1_iso_code": "GR-I"
   }
  },
  "noteable": {
   "last_transaction_id": "c74af64e-eb67-4250-a798-992eb4d4eb5e",
   "last_delta_id": "cc43d949-061f-409d-a57f-9ad23dd81244"
  },
  "selected_hardware_size": "small",
  "nteract": {
   "version": "noteable@2.9.0"
  }
 },
 "nbformat": 4,
 "nbformat_minor": 5
}
